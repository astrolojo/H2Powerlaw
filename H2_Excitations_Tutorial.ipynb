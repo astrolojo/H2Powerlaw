{
 "cells": [
  {
   "cell_type": "markdown",
   "id": "17317540",
   "metadata": {},
   "source": [
    "# H<sub>2</sub> Excitation\n",
    "\n",
    "This notebook is a Python adaptation of the molecular hydrogen (H<sub>2</sub>) excitation model presented in Togi & Smith (2016, hereafter TS16). We use H<sub>2</sub> line fluxes for the galaxy NGC 5033 as an example of this code's ability to reproduce the power-law slopes and cutoff temperatures given in TS16, as well as the inferred H<sub>2</sub> mass.\n",
    "\n",
    "We also give blank cells in which to define new line fluxes and run the model for your own object. Note that in this version, **fluxes must be in cgs units for accurate calculations.**\n",
    "\n",
    "1. [Imports and defining constants](#Imports)\n",
    "2. [Defining functions](#Functions)\n",
    "3. [Example use](#Example)\n",
    "    1. [NGC 5033](#NGC5033)\n",
    "    2. [Your own example](#BlankExample)\n"
   ]
  },
  {
   "cell_type": "markdown",
   "id": "f444329e",
   "metadata": {},
   "source": [
    "##  Imports and defining constants <a name=\"Imports\"></a>"
   ]
  },
  {
   "cell_type": "markdown",
   "id": "3383c5d4",
   "metadata": {},
   "source": [
    "This notebook uses the following packages:\n",
    "\n",
    "* **numpy** and **scipy** for handling array functions, including fitting\n",
    "* **astropy** for unit manipulation\n",
    "* **operator** for unpacking data for a particular H<sub>2</sub> transition\n",
    "* **matplotlib** and **IPython** for data visualization \n",
    "\n",
    "If you do not have these packages installed, you can install them using pip or conda."
   ]
  },
  {
   "cell_type": "code",
   "execution_count": 1,
   "id": "c639da57",
   "metadata": {
    "ExecuteTime": {
     "end_time": "2023-05-09T15:54:53.040430Z",
     "start_time": "2023-05-09T15:54:52.889534Z"
    }
   },
   "outputs": [],
   "source": [
    "## Data manipulation and fitting\n",
    "import numpy as np\n",
    "import scipy.integrate as integrate\n",
    "from scipy.optimize import curve_fit\n",
    "import astropy.constants as const\n",
    "from operator import itemgetter\n",
    "\n",
    "\n",
    "## Visualization\n",
    "#%matplotlib notebook\n",
    "import matplotlib.pyplot as plt\n",
    "from matplotlib.ticker import FormatStrFormatter\n",
    "from IPython.display import display, Math"
   ]
  },
  {
   "cell_type": "markdown",
   "id": "75f04f77",
   "metadata": {},
   "source": [
    "Lists and dictionaries of relevant constants and variables for the TS16 model.\n",
    "\n",
    "Values for E, lambda, Einstein A, and degeneracy g are given in order of increasing J_lower. Values for a specific\n",
    "transition can be accessed by calling `x[j_low]` (e.g., for the J = 4 > 2 or S(2) transition, use `Ek[2]`, `g[2]`, etc.)\n",
    "\n",
    "The difference between the degeneracy arrays `g` and `g_lib` (and corresponding array of energy levels) is that `g_lib` is only used to compute the partition function of H<sub>2</sub> at a given temperature T."
   ]
  },
  {
   "cell_type": "code",
   "execution_count": 2,
   "id": "538aedc2",
   "metadata": {
    "ExecuteTime": {
     "end_time": "2023-05-09T15:54:55.871629Z",
     "start_time": "2023-05-09T15:54:55.862218Z"
    }
   },
   "outputs": [],
   "source": [
    "## Energy levels E_j / k (units Kelvin)\n",
    "j_lower = np.arange(0,9,1)\n",
    "j_upper = j_lower + 2\n",
    "Ek = np.array( [510, 1015, 1681, 2503, 3473, 4585, 5828, 7196, 8677] )\n",
    "\n",
    "\n",
    "## Corresponding wavelengths (microns) and Einstein A values (s^-1)\n",
    "lam = np.array( [28.219, 17.035, 12.279, 9.665, 8.025, 6.91, 6.109, 5.511, 5.053] )\n",
    "coeff_a = 1e-11 * np.array( [2.95, 47.6, 275., 980., 2640., 5880., 11400., 20000., 32400.] )\n",
    "\n",
    "     \n",
    "## Degeneracy values for para and ortho H<sub>2</sub>\n",
    "g = np.zeros(len(j_lower)) ## Access para H<sub>2</sub> with g[::2] (even j) and ortho H<sub>2</sub> with g[1::2] (odd j)\n",
    "\n",
    "for j in j_upper:\n",
    "    if j%2 == 0:\n",
    "        g[j-2] += 2*j+1\n",
    "    else:\n",
    "        g[j-2] += 3*(2*j+1)\n",
    "        \n",
    "        \n",
    "## A dictionary containing the above arrays. For easier access and indexing when some lines are absent\n",
    "## (e.g., when S(0) isn't available, which may otherwise throw off the choice of normalization index j_norm)\n",
    "linedict = dict()\n",
    "\n",
    "for j in j_lower:\n",
    "    tempdict = {\"gu\":g[j], \"lam\":lam[j], \"A\":coeff_a[j], \"Eu\":Ek[j]}\n",
    "    \n",
    "    linedict[\"S\"+str(j)] = tempdict       \n",
    "\n",
    "\n",
    "## Energy levels E_j / k (units Kelvin)\n",
    "## Used only to accurately compute partition functions.\n",
    "j_lower_lib = np.arange(0,15,1)\n",
    "j_upper_lib = j_lower_lib + 2\n",
    "Ek_lib = np.array( [510, 1015, 1681, 2503, 3473, 4585, 5828, 7196, 8677, 10263, 11940, 13703, 15549, 17458, 19402] )\n",
    "\n",
    "g_lib = np.zeros(len(j_lower_lib)) ## Access para H<sub>2</sub> with g[::2] (even j) and ortho H<sub>2</sub> with g[1::2] (odd j)\n",
    "\n",
    "for j in j_upper_lib:\n",
    "    if j%2 == 0:\n",
    "        g_lib[j-2] += 2*j+1\n",
    "    else:\n",
    "        g_lib[j-2] += 3*(2*j+1)\n",
    "        \n",
    "        \n",
    "## Constant upper temperature limit Tu = 2000 K\n",
    "Tu = 2000"
   ]
  },
  {
   "cell_type": "markdown",
   "id": "b9017c16",
   "metadata": {},
   "source": [
    "## Defining functions <a name=\"Functions\"></a>"
   ]
  },
  {
   "cell_type": "markdown",
   "id": "848051b9",
   "metadata": {},
   "source": [
    "In this section we define the functions necessary to evaluate the TS16 model. Details on the purpose, inputs, and outputs of each are given in block comments above the function definition."
   ]
  },
  {
   "cell_type": "code",
   "execution_count": 3,
   "id": "635e0ef0",
   "metadata": {
    "ExecuteTime": {
     "end_time": "2023-05-09T15:54:58.224816Z",
     "start_time": "2023-05-09T15:54:58.205181Z"
    }
   },
   "outputs": [],
   "source": [
    "\"\"\"\n",
    "Evaluate the partition function Z(T). To be used when calculating column density ratios.\n",
    "\n",
    "Input: Temperature t\n",
    "\n",
    "Output: Sum of the partition functions z_p and z_o (for para- and ortho-H<sub>2</sub>). Includes a term for the ground\n",
    "states of para-H<sub>2</sub> (J = 0 or g = 0) and ortho-H<sub>2</sub> (J = 1 or g = 9).\n",
    "\"\"\"\n",
    "\n",
    "def evaluate_z(t):\n",
    "    ## Partition function for para H<sub>2</sub>, even J_upper\n",
    "    z_p = 1 + np.sum([g_lib[j] * np.exp(-1 * Ek_lib[j]/t) for j in j_lower_lib[::2]])\n",
    "\n",
    "    ## Partition function for ortho H<sub>2</sub>, odd J_upper\n",
    "    z_o = (9 * np.exp(-170./t))  + np.sum([g_lib[j] * np.exp(-1 * Ek_lib[j]/t) for j in j_lower_lib[1::2]])\n",
    "    \n",
    "    return z_p+z_o\n",
    "\n",
    "###################################\n",
    "\n",
    "\"\"\"\n",
    "The empirical column density ratio from flux ratios, normalized to the S(1) transition (J = 3 > 1)\n",
    "(see Equation 11 from TS16).\n",
    "\n",
    "Input: \n",
    "- Array of measured line fluxes flux. Assumed to be given in order of increasing J.\n",
    "- Integer j_norm, indicating the J_final of the state to which all fluxes are normalized; defaults to \n",
    "j_norm = 1 for the S(1) (J = 3 -> 1) transition.\n",
    "- Array of integers j_obs representing transition final states. E.g., if only the S(1), S(2), and S(3) transitions\n",
    "have measurements, j_obs is the array [1, 2, 3].\n",
    "\n",
    "Output: Dictionary of column density ratios relative to a chosen transition.\n",
    "\"\"\"\n",
    "\n",
    "def nratio_flux(flux, j_norm, j_obs):\n",
    "    print(\"Calculating empirical column density ratios for the following transitions:\",str(j_obs))\n",
    "    \n",
    "    ## Initialize an empty dictionary for the column density ratios\n",
    "    fratios = dict()\n",
    "    \n",
    "    ## Retrieve parameters relevant to transition j_norm\n",
    "    g_norm, lam_norm, A_norm, Eu_norm = itemgetter('gu', 'lam', 'A', 'Eu')(linedict[\"S\"+str(j_norm)])\n",
    "    \n",
    "    for j in j_lower:\n",
    "        if j not in j_obs:\n",
    "            pass\n",
    "            \n",
    "        else:\n",
    "            ## Retrieve parameters relevant to transition j\n",
    "            g, lam, A, Eu = itemgetter('gu', 'lam', 'A', 'Eu')(linedict[\"S\"+str(j)])\n",
    "\n",
    "            ## Compute empirical column density ratios using TS16 eq. 11\n",
    "            fr = (g_norm / g) * ((flux[j] * lam) / A) / ((flux[j_norm] * lam_norm) / A_norm)\n",
    "            fratios[\"S\"+str(j)] = fr\n",
    "\n",
    "    return np.array(list(fratios.values())), np.array(list(fratios.keys()))\n",
    "\n",
    "###################################\n",
    "\n",
    "\"\"\"\n",
    "The fractional uncertainties on the flux ratios, normalized to the S(1) transition (J = 3 > 1)\n",
    "(see Equation 11 from TS16).\n",
    "\n",
    "Input: \n",
    "- Array of measured line fluxes flux and flux uncertainties err. Assumed to be given in order of increasing J.\n",
    "- Integer j_norm, indicating the J_final of the state to which all fluxes are normalized; defaults to \n",
    "j_norm = 1 for the S(1) (J = 3 -> 1) transition.\n",
    "- Array of integers j_obs representing transition final states. E.g., if only the S(1), S(2), and S(3) transitions\n",
    "have measurements, j_obs is the array [1, 2, 3].\n",
    "\n",
    "Output: Array of fractional flux uncertainties normalized to a chosen transition.\n",
    "Translate this into uncertainties on the column density ratios by multiplying this array by your nominal \n",
    "value array from the function nratio_flux().\n",
    "\n",
    "\"\"\"\n",
    "\n",
    "def flux_un(flux, err, j_norm, j_obs):\n",
    "    ## Initialize an empty dictionary for the flux uncertainties\n",
    "    unc = dict()\n",
    "    \n",
    "    ## Retrieve parameters relevant to transition j_norm\n",
    "    g_norm, lam_norm, A_norm, Eu_norm = itemgetter('gu', 'lam', 'A', 'Eu')(linedict[\"S\"+str(j_norm)])\n",
    "\n",
    "    for j in j_lower:\n",
    "        if j not in j_obs:\n",
    "            pass\n",
    "        else:\n",
    "            ## Retrieve parameters relevant to transition j\n",
    "            g, lam, A, Eu = itemgetter('gu', 'lam', 'A', 'Eu')(linedict[\"S\"+str(j)])\n",
    "\n",
    "            ## Compute fractional flux uncertainty of transition j, normalized to j_norm\n",
    "            ## Note that these are FLUX uncertainties, not column-density uncertainties\n",
    "            unratio = ( (err[j]/flux[j])**2 + (err[j_norm]/flux[j_norm])**2 )**0.5\n",
    "            unc[\"S\"+str(j)] = unratio\n",
    "\n",
    "    return np.array(list(unc.values())), np.array(list(unc.keys()))\n",
    "\n",
    "###################################\n",
    "\n",
    "\"\"\"\n",
    "The theoretical column density ratio for transition j from the TS16 continuous temperature model\n",
    "(see their Equation 12). To generate predicted ratios for a set of observed transitions, \n",
    "iterate over the appropriate array of J_low values.\n",
    "\n",
    "Input:\n",
    "- Integers j and j_norm, respectively indicating the J_final of the transition being modeled and the J_final of\n",
    "the state to which all fluxes are normalized; defaults to j_norm = 1 for the S(1) (J = 3 -> 1) transition.\n",
    "- Power law slope n.\n",
    "- Temperature integral bounds Tu and Tl. \n",
    "\n",
    "Output: Predicted column density of transition j+2 relative to N_3 (the S(1) transition)\n",
    "\"\"\"\n",
    "\n",
    "j_norm = 1\n",
    "def nratio_model(j_obs, n, Tl):\n",
    "    ## Initialize an empty dictionary for the column density ratios\n",
    "    modelratios = dict()\n",
    "    \n",
    "    ## Retrieve parameters relevant to transition j_norm\n",
    "    g_norm, lam_norm, A_norm, Eu_norm = itemgetter('gu', 'lam', 'A', 'Eu')(linedict[\"S\"+str(j_norm)])\n",
    "    \n",
    "    for j in j_lower:\n",
    "        if j not in j_obs:\n",
    "            pass\n",
    "            \n",
    "        else:\n",
    "            ## Retrieve parameters relevant to transition j\n",
    "            g, lam, A, Eu = itemgetter('gu', 'lam', 'A', 'Eu')(linedict[\"S\"+str(j)])\n",
    "            \n",
    "            ## Evaluate the numerator and denominator of TS16 equation 12\n",
    "            numer = integrate.quad(lambda t: (1 / evaluate_z(t)) * np.exp( -1 * Eu / t ) * t**(-n), Tl, Tu)\n",
    "            denom = integrate.quad(lambda t: (1 / evaluate_z(t)) * np.exp( -1 * Eu_norm / t ) * t**(-n), Tl, Tu)\n",
    "            modelratios[\"S\"+str(j)] = numer[0]/denom[0]\n",
    "            \n",
    "    return np.array(list(modelratios.values()))\n",
    "\n",
    "###################################\n",
    "\n",
    "\"\"\"\n",
    "The inferred total column density of warm H<sub>2</sub> (see Equation 9 from TS16)\n",
    "\n",
    "Input:\n",
    "- Line flux \"flux\" for transition \"j_\" that is used for the mass computation. In principle this could be any \n",
    "transition, though we recommend using S(0), S(1), or S(2).\n",
    "- Power law slope n.\n",
    "- Temperature integral bounds Tu and Tl.\n",
    "\n",
    "Output: Array of the \"total\" column density of warm H<sub>2</sub>, as calculated from each modeled line flux. User can then\n",
    "choose a single value as the fiducial measurement, take a median/average of the whole array, etc.\n",
    "\"\"\"\n",
    "\n",
    "def n_total(flux, j_, om, n, Tl):\n",
    "    ## Initialize empty array of column density estimates\n",
    "    column_dens = 0\n",
    "\n",
    "    ## Evaluate the definite integral in TS16 Equation 3\n",
    "    n_integral = integrate.quad(lambda t: (g[j_] / evaluate_z(t)) * np.exp( -1 * Ek[j_] / t ) * t**(-n), Tl, Tu)[0]\n",
    "\n",
    "    ## Plug and chug values in TS16 Equation 9\n",
    "    column = (4 * np.pi * flux * lam[j_] * (Tl**(1-n) - Tu**(1-n))) / \\\n",
    "    (coeff_a[j_] * const.h.to(\"erg s\").value * const.c.to(\"micron/s\").value * om.value * (n - 1) * n_integral)\n",
    "\n",
    "    column_dens += column\n",
    "    \n",
    "    return column_dens"
   ]
  },
  {
   "cell_type": "markdown",
   "id": "617c3ae1",
   "metadata": {},
   "source": [
    "## Example use <a name=\"Example\"></a>"
   ]
  },
  {
   "cell_type": "markdown",
   "id": "2e234c1f",
   "metadata": {},
   "source": [
    "### NGC 5033 <a name=\"NGC5033\"></a>\n",
    "\n",
    "The next several cells illustrate how to use the TS16 model to compute the power-law slope, cutoff temperature\n",
    "T<sub>l</sub>, and H<sub>2</sub> mass using real H<sub>2</sub> line measurements for the galaxy NGC 5033 (see TS16 Table 2 and references therein). \n",
    "\n",
    "* Enter the measured fluxes and flux uncertainties, as well as the transitions J that they correspond to.\n",
    "* Initial value for the beam size `omega`. This can be arbitrary (if all you're interested in is the H<sub>2</sub> mass) or the actual beam size of your observations (if you want N(H<sub>2</sub>)).\n",
    "* Call on the functions `nratio_flux()` and `flux_un()` to convert to column densities.\n",
    "* Pass the arrays `nratio` and `nratio_err` to `scipy.curve_fit()` to obtain best-fit values for n and T<sub>l</sub> and their corresponding uncertainties."
   ]
  },
  {
   "cell_type": "code",
   "execution_count": 4,
   "id": "9f8fa8e0",
   "metadata": {
    "ExecuteTime": {
     "end_time": "2023-05-09T15:55:00.435866Z",
     "start_time": "2023-05-09T15:55:00.429917Z"
    }
   },
   "outputs": [
    {
     "name": "stdout",
     "output_type": "stream",
     "text": [
      "Calculating empirical column density ratios for the following transitions: [0 1 2 3]\n"
     ]
    }
   ],
   "source": [
    "f = 1e-14*np.array( [3.66, 18.20, 06.35, 12.69] ) ## Line fluxes for NGC 5033, in erg/s\n",
    "ferr = 1e-14 * np.array( [0.35,1.04, 0.31,1.91] ) ## Line fluxes for NGC 5033, in erg/s\n",
    "\n",
    "jobs = np.array( [0, 1, 2, 3]) ## Lower J of transitions observed for NGC 5033\n",
    "j_norm = 1\n",
    "omega = (15*u.arcsec**2).to('sr') ## Arbitrary beam size in sq. arcsec\n",
    "D = 14.8 * u.Mpc ## Distance in Mpc\n",
    "\n",
    "\n",
    "## Compute the empirical column density ratios and their fractional uncertainty\n",
    "nratio, nratio_j = nratio_flux(f, 1, jobs)\n",
    "flux_err, flux_err_j = flux_un(f, ferr, 1, jobs)\n",
    "nratio_err = nratio * flux_err"
   ]
  },
  {
   "cell_type": "markdown",
   "id": "779b0088",
   "metadata": {},
   "source": [
    "The values of the `bounds` parameter in `scipy.curve_fit()` can be tweaked as necessary to prevent runaway values. By default they are set such that (3 < n < 7) and (30 K < T<sub>l</sub> < 500 K).\n",
    "\n",
    "Note that the best-fit values of n and T<sub>l</sub> for NGC 5033 inferred by this Python version of the TS16 model are slightly different (but consistent within uncertainties) with those reported in TS16 itself (their Table 4), using the original IDL version. This may be because of differences in the curve fitting algorithm, but as we show later, the new (n, T<sub>l</sub>) values produce a fit that is qualitatively just as good.\n",
    "\n",
    "\n",
    "\n",
    "The best-fit values found by `scipy.curve_fit()` can then be used to compute either the total** **column density** of H<sub>2</sub> following TS16 eq. 9, or the total H<sub>2</sub> **mass** following TS16 eqs. 13 and 14.\n",
    "\\** Note that this is the total mass between your temperature bounds T<sub>l</sub> and a constant T<sub>u</sub> = 2000 K. Change the value of T<sub>l</sub> to T' to examine the mass encompassed by other temperature bounds."
   ]
  },
  {
   "cell_type": "code",
   "execution_count": 5,
   "id": "ddc66b80",
   "metadata": {
    "ExecuteTime": {
     "end_time": "2023-05-09T15:55:03.986356Z",
     "start_time": "2023-05-09T15:55:03.610445Z"
    }
   },
   "outputs": [
    {
     "name": "stdout",
     "output_type": "stream",
     "text": [
      "Best fit values (n, Tl): [ 4.7551037  71.21089245] and their uncertainties: [ 0.11995241 15.38465597]\n"
     ]
    }
   ],
   "source": [
    "params, cov = curve_fit(nratio_model, jobs, nratio, sigma=nratio_err, bounds = ([3., 20.], [7., 500.]))\n",
    "\n",
    "print(\"Best fit values (n, Tl):\",params, \"and their uncertainties:\",np.sqrt(np.diag(cov)))\n",
    "\n",
    "best_slope, best_T = params[0], params[1] ## Assign the best-fit values to variables for later use\n",
    "best_model_nratio = nratio_model(jobs, best_slope, best_T) ## Create a set of predicted column density ratios from the best model"
   ]
  },
  {
   "cell_type": "code",
   "execution_count": 6,
   "id": "b48bcba8",
   "metadata": {
    "ExecuteTime": {
     "end_time": "2023-05-09T15:55:05.755162Z",
     "start_time": "2023-05-09T15:55:05.748260Z"
    }
   },
   "outputs": [
    {
     "name": "stdout",
     "output_type": "stream",
     "text": [
      "The total mass of H2 between 71.2 and 2000 K is 62746432.4 Msun\n"
     ]
    }
   ],
   "source": [
    "## Use the best-fit values above to compute the total column density and/or mass\n",
    "total_column = n_total(f[1], 1, omega, best_slope, best_T) ## The total column density in cm^-2\n",
    "total_number = total_column * omega.value * (D.to(\"cm\").value)**2 ## The total number density given distance D and beam size omega\n",
    "\n",
    "mh2 = total_number * (3.32e-27 / const.M_sun.value) # number density * hydrogen mass in Msun units\n",
    "print(\"The total mass of H2 between\",round(best_T,1), \"and 2000 K is\", round(mh2, 1), \"Msun\")"
   ]
  },
  {
   "cell_type": "markdown",
   "id": "ebfbd254",
   "metadata": {
    "ExecuteTime": {
     "end_time": "2023-05-09T14:02:41.125899Z",
     "start_time": "2023-05-09T14:02:41.101354Z"
    }
   },
   "source": [
    "To compute an uncertainty on the H<sub>2</sub> mass, repeat the above calculations using the diagonals from the `cov` variable that is output by `scipy.curve_fit()`.\n",
    "\n",
    "I **think** the correct way to do get an upper uncertainty on the mass is to use the +1$\\sigma$ value of `n` and the -1$\\sigma$ value of `T`, which will maximize the area under the power-law curve. And vice-versa for the lower bound on the mass."
   ]
  },
  {
   "cell_type": "code",
   "execution_count": 7,
   "id": "b0b1e190",
   "metadata": {
    "ExecuteTime": {
     "end_time": "2023-05-09T15:55:07.560498Z",
     "start_time": "2023-05-09T15:55:07.545293Z"
    }
   },
   "outputs": [
    {
     "data": {
      "text/latex": [
       "$\\displaystyle M_{H2} = 6.275_{-3.515}^{11.750}~~(\\times~ 10^7 M_{\\odot})$"
      ],
      "text/plain": [
       "<IPython.core.display.Math object>"
      ]
     },
     "metadata": {},
     "output_type": "display_data"
    }
   ],
   "source": [
    "## Define the +/- 1sigma values for n and T\n",
    "upp_slope, upp_T = best_slope+np.sqrt(np.diag(cov))[0], best_T+np.sqrt(np.diag(cov))[1]\n",
    "low_slope, low_T = best_slope-np.sqrt(np.diag(cov))[0], best_T-np.sqrt(np.diag(cov))[1]\n",
    "\n",
    "## Create an empty array in which to store the H2 mass uncertainties\n",
    "mh2_unc = np.array([0.,0.])\n",
    "i=0\n",
    "\n",
    "## Compute the column and number densities as before, iterating over the new pairs of (n, T).\n",
    "## These values are s\n",
    "for (n, T) in zip([low_slope, upp_slope], [upp_T, low_T]):\n",
    "    column = n_total(f[1], 1, omega, n, T)\n",
    "    number = column * omega.value * (D.to(\"cm\").value)**2\n",
    "    mh2_unc[i] += number * (3.32e-27 / const.M_sun.value) # number * hydrogen mass in Msun units\n",
    "    \n",
    "    i+=1\n",
    "\n",
    "    \n",
    "## Use np.diff() and IPython Math text formatting to print the mass estimate and uncertainties in a friendly way\n",
    "mass_array = np.array( [mh2_unc[0], mh2, mh2_unc[1]] )\n",
    "q = np.diff(mass_array)\n",
    "\n",
    "## Feel free to change the 1e7 factor to suit your desired units/scaling\n",
    "txt = r\"M_{{H2}} = {0:.3f}_{{-{1:.3f}}}^{{{2:.3f}}}~~(\\times~ 10^7 M_{{\\odot}})\"\n",
    "txt = txt.format(mass_array[1] / 1e7, q[0] / 1e7, q[1] / 1e7)\n",
    "display(Math(txt))"
   ]
  },
  {
   "cell_type": "markdown",
   "id": "cbe752cf",
   "metadata": {},
   "source": [
    "Let's visualize how well the best-fit model follows the empirical column density ratios using `matplotlib`. I'm using log scaling on the x axis to more easily spot deviations from the model, but this can be set to `linear` to use a more standard visualization. I'm also not plotting error bars, because the uncertainties are smaller than the symbols for each data point.\n",
    "\n",
    "The best-fit model that this Python code infers, (n, T<sub>l</sub>) = (4.77, 71), are slightly different than what is reported for the same galaxy in TS16, (n, T<sub>l</sub>) = (4.65, 51). To see the difference in the quality of the fits, let's plot both model predictions.\n",
    "\n",
    "We can see that although the model parameters are slightly different (especially the cutoff temperature T<sub>l</sub>), qualitatively they both do a good job at describing the observed H<sub>2</sub> column density ratios."
   ]
  },
  {
   "cell_type": "code",
   "execution_count": 8,
   "id": "2c957cdc",
   "metadata": {
    "ExecuteTime": {
     "end_time": "2023-05-09T15:55:09.826976Z",
     "start_time": "2023-05-09T15:55:09.307791Z"
    },
    "scrolled": false
   },
   "outputs": [
    {
     "data": {
      "image/png": "[encoded data removed]",
      "text/plain": [
       "<Figure size 800x600 with 1 Axes>"
      ]
     },
     "metadata": {},
     "output_type": "display_data"
    }
   ],
   "source": [
    "fig, ax = plt.subplots(figsize=(8,6))\n",
    "\n",
    "\n",
    "## Plot the empirical column density ratios\n",
    "ax.scatter(Ek[jobs], np.log(nratio),\n",
    "            marker='o', color = 'mediumblue', s=100, lw=0, label = \"Observed ratios\")\n",
    "\n",
    "## Plot the predicted column density ratios using the best-fit model\n",
    "ax.scatter(Ek[jobs], np.log(best_model_nratio), color='gold', edgecolor='black', lw=0.5, marker='^', \n",
    "           s=80, label = \"Model ratios (n=-4.76, Tl=71)\")\n",
    "\n",
    "\n",
    "ts16 = nratio_model(jobs, 4.65, 51)\n",
    "## Plot the predicted column density ratios using the best-fit model\n",
    "ax.scatter(Ek[jobs], np.log(ts16), facecolor='none', edgecolor='magenta', lw=1.5, marker='v', \n",
    "           s=80, label = \"Model ratios (n=-4.65, Tl=51)\")\n",
    "\n",
    "\n",
    "###################################\n",
    "\n",
    "ax.set_xlabel(r\"E$_u$ / k (K)\", weight='semibold')\n",
    "ax.set_ylabel(r\"ln(N$_u$ / g$_u$) - ln(N$_1$ / g$_1$)\", weight='semibold')\n",
    "\n",
    "ax.set_xscale('log')\n",
    "ax.yaxis.set_major_formatter(FormatStrFormatter('%.2f'))\n",
    "\n",
    "ax.set_title(\"NGC 5033\", weight='semibold')\n",
    "ax.legend(loc='best')\n",
    "\n",
    "plt.show()"
   ]
  },
  {
   "cell_type": "markdown",
   "id": "121172c6",
   "metadata": {},
   "source": [
    "### Your own example <a name=\"BlankExample\"></a>"
   ]
  },
  {
   "cell_type": "markdown",
   "id": "c2be3a99",
   "metadata": {},
   "source": [
    "Use the cells below for a quick start on using this code on your own data."
   ]
  },
  {
   "cell_type": "code",
   "execution_count": null,
   "id": "5aa898af",
   "metadata": {
    "ExecuteTime": {
     "end_time": "2023-05-09T15:37:04.371701Z",
     "start_time": "2023-05-09T15:37:04.366495Z"
    },
    "scrolled": true
   },
   "outputs": [],
   "source": [
    "\"\"\"\n",
    "f = 1e-14*np.array( [] ) ## Line fluxes, in erg/s\n",
    "ferr = 1e-14 * np.array( [] ) ## Line fluxes, in erg/s\n",
    "\n",
    "jobs = np.array( [] ) ## Lower J of transitions observed\n",
    "j_norm = 1\n",
    "omega = (99*u.arcsec**2).to('sr') ## Arbitrary beam size in sq. arcsec\n",
    "D = 99 * u.Mpc ## Distance in Mpc\n",
    "\n",
    "\n",
    "## Compute the empirical column density ratios and their fractional uncertainty\n",
    "nratio, nratio_j = nratio_flux(f, 1, jobs)\n",
    "flux_err, flux_err_j = flux_un(f, ferr, 1, jobs)\n",
    "nratio_err = nratio * flux_err\n",
    "\n",
    "###############\n",
    "\n",
    "params, cov = curve_fit(nratio_model, jobs, nratio, sigma=nratio_err, bounds = ([3., 20.], [7., 500.]))\n",
    "\n",
    "print(\"Best fit values (n, Tl):\",params, \"and their uncertainties:\",np.sqrt(np.diag(cov)))\n",
    "\n",
    "best_slope, best_T = params[0], params[1] ## Assign the best-fit values to variables for later use\n",
    "best_model_nratio = nratio_model(jobs, best_slope, best_T) ## Create a set of predicted column density ratios from the bets model\n",
    "\"\"\""
   ]
  },
  {
   "cell_type": "code",
   "execution_count": null,
   "id": "745f9497",
   "metadata": {},
   "outputs": [],
   "source": [
    "\"\"\"\n",
    "## Use the best-fit values above to compute the total column density and/or mass\n",
    "total_column = n_total(f[1], 1, omega, best_slope, best_T) ## The total column density in cm^-2\n",
    "\n",
    "total_number = total_column * omega.value * (D.to(\"cm\").value)**2 ## The total number density given distance D and beam size omega\n",
    "\n",
    "mh2 = total_number * (3.32e-27 / const.M_sun.value) # number density * hydrogen mass in Msun units\n",
    "print(\"The total mass of H2 between\",best_T, \"and 2000 K is\", round(mh2, 1), \"Msun\")\n",
    "\n",
    "###############\n",
    "\n",
    "## Define the +/- 1sigma values for n and T\n",
    "upp_slope, upp_T = best_slope+np.sqrt(np.diag(cov))[0], best_T+np.sqrt(np.diag(cov))[1]\n",
    "low_slope, low_T = best_slope-np.sqrt(np.diag(cov))[0], best_T-np.sqrt(np.diag(cov))[1]\n",
    "\n",
    "## Create an empty array in which to store the H2 mass uncertainties\n",
    "mh2_unc = np.array([0.,0.])\n",
    "i=0\n",
    "\n",
    "## Compute the column and number densities as before, iterating over the new pairs of (n, T).\n",
    "## These values are s\n",
    "for (n, T) in zip([low_slope, upp_slope], [upp_T, low_T]):\n",
    "    column = n_total(f[1], 1, omega, n, T)\n",
    "    number = column * omega.value * (D.to(\"cm\").value)**2\n",
    "    mh2_unc[i] += number * (3.32e-27 / const.M_sun.value) # number * hydrogen mass in Msun units\n",
    "    \n",
    "    i+=1\n",
    "\n",
    "    \n",
    "## Use np.diff() and IPython Math text formatting to print the mass estimate and uncertainties in a friendly way\n",
    "mass_array = np.array( [mh2_unc[0], mh2, mh2_unc[1]] )\n",
    "q = np.diff(mass_array)\n",
    "\n",
    "## Feel free to change the 1e7 factor to suit your desired units/scaling\n",
    "txt = r\"M_{{H2}} = {0:.3f}_{{-{1:.3f}}}^{{{2:.3f}}}~~(\\times~ 10^7 M_{{\\odot}})\"\n",
    "txt = txt.format(mass_array[1] / 1e7, q[0] / 1e7, q[1] / 1e7)\n",
    "display(Math(txt))\n",
    "\"\"\""
   ]
  }
 ],
 "metadata": {
  "kernelspec": {
   "display_name": "Python 3 (ipykernel)",
   "language": "python",
   "name": "python3"
  },
  "language_info": {
   "codemirror_mode": {
    "name": "ipython",
    "version": 3
   },
   "file_extension": ".py",
   "mimetype": "text/x-python",
   "name": "python",
   "nbconvert_exporter": "python",
   "pygments_lexer": "ipython3",
   "version": "3.7.16"
  }
 },
 "nbformat": 4,
 "nbformat_minor": 5
}
